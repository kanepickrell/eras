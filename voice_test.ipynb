{
 "cells": [
  {
   "cell_type": "code",
   "execution_count": 4,
   "metadata": {},
   "outputs": [
    {
     "name": "stdout",
     "output_type": "stream",
     "text": [
      "Audio saved as output.mp3\n"
     ]
    }
   ],
   "source": [
    "import requests\n",
    "\n",
    "def text_to_speech(text, api_key, voice_id):\n",
    "    url = f\"https://api.elevenlabs.io/v1/text-to-speech/{voice_id}\"\n",
    "    headers = {\n",
    "        \"xi-api-key\": f\"{api_key}\",\n",
    "        \"Content-Type\": \"application/json\"\n",
    "    }\n",
    "    data = {\n",
    "        \"text\": text,\n",
    "        \"voice_settings\": {\n",
    "            \"stability\": 0.75,\n",
    "            \"similarity_boost\": 0.85\n",
    "        }\n",
    "    }\n",
    "    \n",
    "    response = requests.post(url, json=data, headers=headers)\n",
    "    \n",
    "    if response.status_code == 200:\n",
    "        with open(\"output.mp3\", \"wb\") as audio_file:\n",
    "            audio_file.write(response.content)\n",
    "        print(\"Audio saved as output.mp3\")\n",
    "    else:\n",
    "        print(f\"Failed to generate audio: {response.status_code}, {response.text}\")\n",
    "\n",
    "# Replace with your actual API key and voice ID\n",
    "api_key = \"sk_7de5f110a0e94d927714ef3f6e91491f4b9402d5d9827107\"\n",
    "voice_id = \"lTI0koW55h9kYCaiTPGY\"\n",
    "\n",
    "text = \"Fellow Americans. My name is Lyndon Johnson, today I am here to talk about the Vietnam War. This war is a very important issue for our country and we need to address it as soon as possible. We have been fighting this war for many years now and it is time to bring our troops home. We need to end this war and bring peace to our country. I am asking for your support in this matter. Thank you.\"\n",
    "text_to_speech(text, api_key, voice_id)\n"
   ]
  },
  {
   "cell_type": "code",
   "execution_count": null,
   "metadata": {},
   "outputs": [],
   "source": []
  }
 ],
 "metadata": {
  "kernelspec": {
   "display_name": "Python 3",
   "language": "python",
   "name": "python3"
  },
  "language_info": {
   "codemirror_mode": {
    "name": "ipython",
    "version": 3
   },
   "file_extension": ".py",
   "mimetype": "text/x-python",
   "name": "python",
   "nbconvert_exporter": "python",
   "pygments_lexer": "ipython3",
   "version": "3.12.2"
  }
 },
 "nbformat": 4,
 "nbformat_minor": 2
}
